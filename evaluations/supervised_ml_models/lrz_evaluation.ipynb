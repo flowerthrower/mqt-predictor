{
 "cells": [
  {
   "cell_type": "markdown",
   "id": "5189fbc1",
   "metadata": {},
   "source": [
    "# Data Preparation"
   ]
  },
  {
   "cell_type": "code",
   "execution_count": null,
   "id": "49eeb4d9",
   "metadata": {},
   "outputs": [],
   "source": [
    "import matplotlib.pyplot as plt\n",
    "import numpy as np\n",
    "from sklearn.ensemble import RandomForestRegressor\n",
    "from sklearn.model_selection import GridSearchCV\n",
    "import glob\n",
    "from qiskit import QuantumCircuit\n",
    "from mqt.predictor import ml\n",
    "from mqt.predictor import reward\n",
    "\n",
    "# Read in quantum circuits and (calculate) scores\n",
    "X, Y = [], []\n",
    "for qasm_file in glob.glob(\"/Users/di93vaw/mqt-predictor/src/mqt/predictor/ml/training_data/training_circuits/*.qasm\"):\n",
    "    qc = QuantumCircuit.from_qasm_file(qasm_file)\n",
    "    feat_dict = ml.helper.create_feature_dict(qc)\n",
    "    score = reward.crit_depth(qc)\n",
    "    X.append(list(feat_dict.values()))\n",
    "    Y.append(score)\n",
    "\n",
    "# Split data into training and test set\n",
    "X_train, X_test = X[:int(len(X)*0.8)], X[int(len(X)*0.8):]\n",
    "Y_train, Y_test = Y[:int(len(Y)*0.8)], Y[int(len(Y)*0.8):]"
   ]
  },
  {
   "cell_type": "code",
   "execution_count": null,
   "id": "be0932e5",
   "metadata": {},
   "outputs": [],
   "source": [
    "print(len(X_train), len(X_test))"
   ]
  },
  {
   "cell_type": "markdown",
   "id": "b453a219",
   "metadata": {},
   "source": [
    "# Random Forest"
   ]
  },
  {
   "cell_type": "code",
   "execution_count": null,
   "id": "e277b733",
   "metadata": {},
   "outputs": [],
   "source": [
    "clf = RandomForestRegressor(random_state=0)\n",
    "tree_param = [\n",
    "    {\n",
    "        \"n_estimators\": [100, 200, 500],\n",
    "        \"max_depth\": list(range(8, 30, 6)),\n",
    "        \"min_samples_split\": list(range(2, 20, 6)),\n",
    "        \"min_samples_leaf\": list(range(2, 20, 6)),\n",
    "        \"bootstrap\": [True, False],\n",
    "    },\n",
    "]\n",
    "\n",
    "clf = GridSearchCV(clf, tree_param, cv=3, n_jobs=-1).fit(X_train, Y_train)\n",
    "\n",
    "y_pred = np.array(list(clf.predict(X_test)))"
   ]
  },
  {
   "cell_type": "code",
   "execution_count": null,
   "id": "eeee6ed8",
   "metadata": {},
   "outputs": [],
   "source": [
    "clf.best_params_"
   ]
  },
  {
   "cell_type": "code",
   "execution_count": null,
   "id": "e102ff6a",
   "metadata": {},
   "outputs": [],
   "source": [
    "plt.figure(figsize=(10, 6))\n",
    "plt.scatter(Y_test, y_pred, color=\"blue\", marker=\"x\")\n",
    "plt.plot([0, 1], [0, 1], color=\"red\", linewidth=2)\n",
    "plt.legend()\n",
    "plt.xlim(0, 1)\n",
    "plt.title(\"Predicted vs Actual Values\")\n",
    "plt.xlabel(\"Actual\")\n",
    "plt.ylabel(\"Predicted\")\n",
    "plt.show()"
   ]
  },
  {
   "cell_type": "code",
   "execution_count": null,
   "id": "0303034e",
   "metadata": {},
   "outputs": [],
   "source": [
    "from skl2onnx import convert_sklearn\n",
    "from skl2onnx.common.data_types import FloatTensorType\n",
    "\n",
    "# New code to convert the model to ONNX\n",
    "initial_type = [(\"float_input\", FloatTensorType([None, X_train.shape[1]]))]\n",
    "onnx_model = convert_sklearn(clf, initial_types=initial_type)\n",
    "\n",
    "# Save the model\n",
    "with open(\"model.onnx\", \"wb\") as f:\n",
    "    f.write(onnx_model.SerializeToString())"
   ]
  }
 ],
 "metadata": {
  "kernelspec": {
   "display_name": "Python 3 (ipykernel)",
   "language": "python",
   "name": "python3"
  },
  "language_info": {
   "codemirror_mode": {
    "name": "ipython",
    "version": 3
   },
   "file_extension": ".py",
   "mimetype": "text/x-python",
   "name": "python",
   "nbconvert_exporter": "python",
   "pygments_lexer": "ipython3"
  }
 },
 "nbformat": 4,
 "nbformat_minor": 5
}
