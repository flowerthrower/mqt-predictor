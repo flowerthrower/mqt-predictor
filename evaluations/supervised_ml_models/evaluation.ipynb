{
 "cells": [
  {
   "cell_type": "markdown",
   "id": "5189fbc1",
   "metadata": {},
   "source": [
    "# Data Preparation"
   ]
  },
  {
   "cell_type": "code",
   "execution_count": null,
   "id": "49eeb4d9",
   "metadata": {},
   "outputs": [],
   "source": [
    "import matplotlib.pyplot as plt\n",
    "import numpy as np\n",
    "from sklearn.ensemble import RandomForestRegressor\n",
    "from sklearn.model_selection import GridSearchCV\n",
    "\n",
    "from mqt.predictor import ml\n",
    "\n",
    "np.random.seed(10)\n",
    "\n",
    "predictor = ml.Predictor()\n",
    "figure_of_merit = \"expected_fidelity\"\n",
    "\n",
    "training_data = predictor.get_prepared_training_data(figure_of_merit=figure_of_merit, save_non_zero_indices=True)\n",
    "\n",
    "X_train = training_data.X_train\n",
    "X_test = training_data.X_test\n",
    "y_train = training_data.y_train\n",
    "y_test = training_data.y_test\n",
    "indices_train = training_data.indices_train\n",
    "indices_test = training_data.indices_test\n",
    "names_list = training_data.names_list\n",
    "scores_list = training_data.scores_list\n",
    "\n",
    "# selected device: no 0\n",
    "test_scores = [scores_list[i][0] for i in indices_test]\n",
    "train_scores = [scores_list[i][0] for i in indices_train]\n",
    "\n",
    "performance = []"
   ]
  },
  {
   "cell_type": "code",
   "execution_count": null,
   "id": "be0932e5",
   "metadata": {},
   "outputs": [],
   "source": [
    "print(len(X_train), len(X_test))"
   ]
  },
  {
   "cell_type": "markdown",
   "id": "b453a219",
   "metadata": {},
   "source": [
    "# Random Forest"
   ]
  },
  {
   "cell_type": "code",
   "execution_count": null,
   "id": "e277b733",
   "metadata": {},
   "outputs": [],
   "source": [
    "clf = RandomForestRegressor(random_state=0)\n",
    "tree_param = [\n",
    "    {\n",
    "        \"n_estimators\": [100, 200, 500],\n",
    "        \"criterion\": [\"gini\", \"entropy\", \"log_loss\"],\n",
    "        \"max_depth\": list(range(8, 30, 6)),\n",
    "        \"min_samples_split\": list(range(2, 20, 6)),\n",
    "        \"min_samples_leaf\": list(range(2, 20, 6)),\n",
    "        \"min_weight_fraction_leaf\": [0.0, 0.1, 0.2, 0.3, 0.4, 0.5],\n",
    "        \"max_features\": [None, \"sqrt\", \"log2\"],\n",
    "        \"max_leaf_nodes\": [None, 10, 20, 30, 40, 50],\n",
    "        \"min_impurity_decrease\": [0.0, 0.1, 0.2, 0.3, 0.4, 0.5],\n",
    "        \"bootstrap\": [True, False],\n",
    "    },\n",
    "]\n",
    "clf = GridSearchCV(clf, tree_param, cv=5, n_jobs=8).fit(X_train, train_scores)\n",
    "\n",
    "y_pred = np.array(list(clf.predict(X_test)))"
   ]
  },
  {
   "cell_type": "code",
   "execution_count": null,
   "id": "eeee6ed8",
   "metadata": {},
   "outputs": [],
   "source": [
    "clf.best_params_"
   ]
  },
  {
   "cell_type": "code",
   "execution_count": null,
   "id": "e102ff6a",
   "metadata": {},
   "outputs": [],
   "source": [
    "plt.figure(figsize=(10, 6))\n",
    "plt.scatter(test_scores, y_pred, color=\"blue\", marker=\"x\")\n",
    "plt.plot([0, 1], [0, 1], color=\"red\", linewidth=2)\n",
    "plt.legend()\n",
    "plt.xlim(0, 1)\n",
    "plt.title(\"Predicted vs Actual Values\")\n",
    "plt.xlabel(\"Actual\")\n",
    "plt.ylabel(\"Predicted\")\n",
    "plt.show()"
   ]
  },
  {
   "cell_type": "code",
   "execution_count": null,
   "id": "0303034e",
   "metadata": {},
   "outputs": [],
   "source": [
    "from skl2onnx import convert_sklearn\n",
    "from skl2onnx.common.data_types import FloatTensorType\n",
    "\n",
    "# New code to convert the model to ONNX\n",
    "initial_type = [(\"float_input\", FloatTensorType([None, X_train.shape[1]]))]\n",
    "onnx_model = convert_sklearn(clf, initial_types=initial_type)\n",
    "\n",
    "# Save the model\n",
    "with open(\"model.onnx\", \"wb\") as f:\n",
    "    f.write(onnx_model.SerializeToString())"
   ]
  }
 ],
 "metadata": {
  "kernelspec": {
   "display_name": "Python 3 (ipykernel)",
   "language": "python",
   "name": "python3"
  },
  "language_info": {
   "codemirror_mode": {
    "name": "ipython",
    "version": 3
   },
   "file_extension": ".py",
   "mimetype": "text/x-python",
   "name": "python",
   "nbconvert_exporter": "python",
   "pygments_lexer": "ipython3"
  }
 },
 "nbformat": 4,
 "nbformat_minor": 5
}
